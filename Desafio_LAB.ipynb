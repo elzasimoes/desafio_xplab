{
  "nbformat": 4,
  "nbformat_minor": 0,
  "metadata": {
    "colab": {
      "name": "Desafio_LAB.ipynb",
      "provenance": [],
      "toc_visible": true
    },
    "kernelspec": {
      "name": "python3",
      "display_name": "Python 3"
    }
  },
  "cells": [
    {
      "cell_type": "markdown",
      "metadata": {
        "id": "3qK4Dlan5ZJe",
        "colab_type": "text"
      },
      "source": [
        "##Visão Geral do Desafio.\n",
        "####O projeto consiste em uma conciliação do **valor total de vendas** de recarga de celular por *operadora* e *por loja*\n",
        "####A Bemol recebe um arquivo de uma empresa financeira (*detalhamento.xlsx*) onde possui o valor consolidado de vendas e o objetivo é verificar se os dados do nosso banco de dados (*vendas.csv*) estão de acordo com o informado.\n",
        "\n",
        "#Dica:\n",
        "Os dados do SAP vêm separados por cada transição de venda realizada. A ideia é de agrupar esses dados para deixá-los no formato parecido com que recebemos da empresa externa(*detalhamento.xlsx*) e, assim, poder unificar as tabelas e fazer a comparação.\n",
        " \n",
        "##To-Do List:\n",
        "\n",
        "![image.png](data:image/png;base64,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)\n",
        "\n",
        "\n",
        "\n",
        "\n"
      ]
    },
    {
      "cell_type": "markdown",
      "metadata": {
        "id": "buxjTDx1cN6u",
        "colab_type": "text"
      },
      "source": [
        "* Leitura de Bases:"
      ]
    },
    {
      "cell_type": "code",
      "metadata": {
        "id": "0zdWqgPc_vcu",
        "colab_type": "code",
        "colab": {}
      },
      "source": [
        "import pandas as pd\n"
      ],
      "execution_count": 0,
      "outputs": []
    },
    {
      "cell_type": "markdown",
      "metadata": {
        "id": "hRvRP6e3AOt9",
        "colab_type": "text"
      },
      "source": [
        "# 1. Leitura de Arquivos."
      ]
    },
    {
      "cell_type": "code",
      "metadata": {
        "id": "pG0HgiKjASfx",
        "colab_type": "code",
        "colab": {}
      },
      "source": [
        "df_vendas = pd.read_csv('vendas.csv', sep = '|', skiprows = 0, encoding = 'utf-8')"
      ],
      "execution_count": 0,
      "outputs": []
    },
    {
      "cell_type": "code",
      "metadata": {
        "id": "NwzBGb-iEPxy",
        "colab_type": "code",
        "outputId": "681e3bd2-4071-439a-83c0-26db7a0c1b4a",
        "colab": {
          "base_uri": "https://localhost:8080/",
          "height": 419
        }
      },
      "source": [
        "df_vendas"
      ],
      "execution_count": 263,
      "outputs": [
        {
          "output_type": "execute_result",
          "data": {
            "text/html": [
              "<div>\n",
              "<style scoped>\n",
              "    .dataframe tbody tr th:only-of-type {\n",
              "        vertical-align: middle;\n",
              "    }\n",
              "\n",
              "    .dataframe tbody tr th {\n",
              "        vertical-align: top;\n",
              "    }\n",
              "\n",
              "    .dataframe thead th {\n",
              "        text-align: right;\n",
              "    }\n",
              "</style>\n",
              "<table border=\"1\" class=\"dataframe\">\n",
              "  <thead>\n",
              "    <tr style=\"text-align: right;\">\n",
              "      <th></th>\n",
              "      <th>Escritório de vendas</th>\n",
              "      <th>Fornecedor</th>\n",
              "      <th>Material</th>\n",
              "      <th>Data</th>\n",
              "      <th>Valor Liquido</th>\n",
              "    </tr>\n",
              "  </thead>\n",
              "  <tbody>\n",
              "    <tr>\n",
              "      <th>0</th>\n",
              "      <td>101</td>\n",
              "      <td>Vivo</td>\n",
              "      <td>131318             RECARGA VIRTUAL VIVO R$ 1,00</td>\n",
              "      <td>02.01.2020</td>\n",
              "      <td>20.0</td>\n",
              "    </tr>\n",
              "    <tr>\n",
              "      <th>1</th>\n",
              "      <td>101</td>\n",
              "      <td>Vivo</td>\n",
              "      <td>131318             RECARGA VIRTUAL VIVO R$ 1,00</td>\n",
              "      <td>30.12.2019</td>\n",
              "      <td>10.0</td>\n",
              "    </tr>\n",
              "    <tr>\n",
              "      <th>2</th>\n",
              "      <td>101</td>\n",
              "      <td>Vivo</td>\n",
              "      <td>131318             RECARGA VIRTUAL VIVO R$ 1,00</td>\n",
              "      <td>04.01.2020</td>\n",
              "      <td>20.0</td>\n",
              "    </tr>\n",
              "    <tr>\n",
              "      <th>3</th>\n",
              "      <td>101</td>\n",
              "      <td>Vivo</td>\n",
              "      <td>131318             RECARGA VIRTUAL VIVO R$ 1,00</td>\n",
              "      <td>02.01.2020</td>\n",
              "      <td>10.0</td>\n",
              "    </tr>\n",
              "    <tr>\n",
              "      <th>4</th>\n",
              "      <td>101</td>\n",
              "      <td>Vivo</td>\n",
              "      <td>131318             RECARGA VIRTUAL VIVO R$ 1,00</td>\n",
              "      <td>03.01.2020</td>\n",
              "      <td>25.0</td>\n",
              "    </tr>\n",
              "    <tr>\n",
              "      <th>...</th>\n",
              "      <td>...</td>\n",
              "      <td>...</td>\n",
              "      <td>...</td>\n",
              "      <td>...</td>\n",
              "      <td>...</td>\n",
              "    </tr>\n",
              "    <tr>\n",
              "      <th>5108</th>\n",
              "      <td>701</td>\n",
              "      <td>Claro</td>\n",
              "      <td>131317             RECARGA VIRTUAL CLARO R$ 1,00</td>\n",
              "      <td>30.12.2019</td>\n",
              "      <td>20.0</td>\n",
              "    </tr>\n",
              "    <tr>\n",
              "      <th>5109</th>\n",
              "      <td>701</td>\n",
              "      <td>Claro</td>\n",
              "      <td>131317             RECARGA VIRTUAL CLARO R$ 1,00</td>\n",
              "      <td>04.01.2020</td>\n",
              "      <td>20.0</td>\n",
              "    </tr>\n",
              "    <tr>\n",
              "      <th>5110</th>\n",
              "      <td>701</td>\n",
              "      <td>Claro</td>\n",
              "      <td>131317             RECARGA VIRTUAL CLARO R$ 1,00</td>\n",
              "      <td>05.01.2020</td>\n",
              "      <td>20.0</td>\n",
              "    </tr>\n",
              "    <tr>\n",
              "      <th>5111</th>\n",
              "      <td>701</td>\n",
              "      <td>Claro</td>\n",
              "      <td>131317             RECARGA VIRTUAL CLARO R$ 1,00</td>\n",
              "      <td>05.01.2020</td>\n",
              "      <td>45.0</td>\n",
              "    </tr>\n",
              "    <tr>\n",
              "      <th>5112</th>\n",
              "      <td>701</td>\n",
              "      <td>Claro</td>\n",
              "      <td>131317             RECARGA VIRTUAL CLARO R$ 1,00</td>\n",
              "      <td>04.01.2020</td>\n",
              "      <td>35.0</td>\n",
              "    </tr>\n",
              "  </tbody>\n",
              "</table>\n",
              "<p>5113 rows × 5 columns</p>\n",
              "</div>"
            ],
            "text/plain": [
              "      Escritório de vendas Fornecedor  ...        Data Valor Liquido\n",
              "0                      101       Vivo  ...  02.01.2020          20.0\n",
              "1                      101       Vivo  ...  30.12.2019          10.0\n",
              "2                      101       Vivo  ...  04.01.2020          20.0\n",
              "3                      101       Vivo  ...  02.01.2020          10.0\n",
              "4                      101       Vivo  ...  03.01.2020          25.0\n",
              "...                    ...        ...  ...         ...           ...\n",
              "5108                   701      Claro  ...  30.12.2019          20.0\n",
              "5109                   701      Claro  ...  04.01.2020          20.0\n",
              "5110                   701      Claro  ...  05.01.2020          20.0\n",
              "5111                   701      Claro  ...  05.01.2020          45.0\n",
              "5112                   701      Claro  ...  04.01.2020          35.0\n",
              "\n",
              "[5113 rows x 5 columns]"
            ]
          },
          "metadata": {
            "tags": []
          },
          "execution_count": 263
        }
      ]
    },
    {
      "cell_type": "code",
      "metadata": {
        "id": "kFuTQtZH89bj",
        "colab_type": "code",
        "colab": {}
      },
      "source": [
        "df_detalhamento = pd.concat(pd.read_excel('detalhamento.xlsx', sheet_name=None, skiprows = 1), ignore_index=True)\n",
        "#Concatenando os Sheets 'AM' 'RR' 'RO' 'AC' em apenas um Sheet."
      ],
      "execution_count": 0,
      "outputs": []
    },
    {
      "cell_type": "code",
      "metadata": {
        "id": "mPLFJGrI9n5O",
        "colab_type": "code",
        "outputId": "d6f60afa-dd94-4b2c-9aa2-9d5cc3c765bd",
        "colab": {
          "base_uri": "https://localhost:8080/",
          "height": 419
        }
      },
      "source": [
        "df_detalhamento"
      ],
      "execution_count": 265,
      "outputs": [
        {
          "output_type": "execute_result",
          "data": {
            "text/html": [
              "<div>\n",
              "<style scoped>\n",
              "    .dataframe tbody tr th:only-of-type {\n",
              "        vertical-align: middle;\n",
              "    }\n",
              "\n",
              "    .dataframe tbody tr th {\n",
              "        vertical-align: top;\n",
              "    }\n",
              "\n",
              "    .dataframe thead th {\n",
              "        text-align: right;\n",
              "    }\n",
              "</style>\n",
              "<table border=\"1\" class=\"dataframe\">\n",
              "  <thead>\n",
              "    <tr style=\"text-align: right;\">\n",
              "      <th></th>\n",
              "      <th>NomeFantasia</th>\n",
              "      <th>Escritório de vendas</th>\n",
              "      <th>UF</th>\n",
              "      <th>Operadora</th>\n",
              "      <th>Valor Bruto</th>\n",
              "    </tr>\n",
              "  </thead>\n",
              "  <tbody>\n",
              "    <tr>\n",
              "      <th>0</th>\n",
              "      <td>BEMOL AVENIDA</td>\n",
              "      <td>103</td>\n",
              "      <td>AM</td>\n",
              "      <td>Claro</td>\n",
              "      <td>2651</td>\n",
              "    </tr>\n",
              "    <tr>\n",
              "      <th>1</th>\n",
              "      <td>BEMOL AVENIDA</td>\n",
              "      <td>103</td>\n",
              "      <td>AM</td>\n",
              "      <td>Oi</td>\n",
              "      <td>3309</td>\n",
              "    </tr>\n",
              "    <tr>\n",
              "      <th>2</th>\n",
              "      <td>BEMOL AVENIDA</td>\n",
              "      <td>103</td>\n",
              "      <td>AM</td>\n",
              "      <td>Tim</td>\n",
              "      <td>1550</td>\n",
              "    </tr>\n",
              "    <tr>\n",
              "      <th>3</th>\n",
              "      <td>BEMOL AVENIDA</td>\n",
              "      <td>103</td>\n",
              "      <td>AM</td>\n",
              "      <td>Vivo</td>\n",
              "      <td>4739</td>\n",
              "    </tr>\n",
              "    <tr>\n",
              "      <th>4</th>\n",
              "      <td>BEMOL BARROSO</td>\n",
              "      <td>107</td>\n",
              "      <td>AM</td>\n",
              "      <td>Claro</td>\n",
              "      <td>1495</td>\n",
              "    </tr>\n",
              "    <tr>\n",
              "      <th>...</th>\n",
              "      <td>...</td>\n",
              "      <td>...</td>\n",
              "      <td>...</td>\n",
              "      <td>...</td>\n",
              "      <td>...</td>\n",
              "    </tr>\n",
              "    <tr>\n",
              "      <th>157</th>\n",
              "      <td>LOJA BEMOL JI-PARANA</td>\n",
              "      <td>205</td>\n",
              "      <td>RO</td>\n",
              "      <td>Claro</td>\n",
              "      <td>123</td>\n",
              "    </tr>\n",
              "    <tr>\n",
              "      <th>158</th>\n",
              "      <td>BEMOL RIO BRANCO</td>\n",
              "      <td>401</td>\n",
              "      <td>AC</td>\n",
              "      <td>Claro</td>\n",
              "      <td>500</td>\n",
              "    </tr>\n",
              "    <tr>\n",
              "      <th>159</th>\n",
              "      <td>BEMOL RIO BRANCO</td>\n",
              "      <td>401</td>\n",
              "      <td>AC</td>\n",
              "      <td>Oi</td>\n",
              "      <td>375</td>\n",
              "    </tr>\n",
              "    <tr>\n",
              "      <th>160</th>\n",
              "      <td>BEMOL RIO BRANCO</td>\n",
              "      <td>401</td>\n",
              "      <td>AC</td>\n",
              "      <td>Tim</td>\n",
              "      <td>125</td>\n",
              "    </tr>\n",
              "    <tr>\n",
              "      <th>161</th>\n",
              "      <td>BEMOL RIO BRANCO</td>\n",
              "      <td>401</td>\n",
              "      <td>AC</td>\n",
              "      <td>Vivo</td>\n",
              "      <td>343</td>\n",
              "    </tr>\n",
              "  </tbody>\n",
              "</table>\n",
              "<p>162 rows × 5 columns</p>\n",
              "</div>"
            ],
            "text/plain": [
              "             NomeFantasia  Escritório de vendas  UF Operadora  Valor Bruto\n",
              "0           BEMOL AVENIDA                   103  AM     Claro         2651\n",
              "1           BEMOL AVENIDA                   103  AM        Oi         3309\n",
              "2           BEMOL AVENIDA                   103  AM       Tim         1550\n",
              "3           BEMOL AVENIDA                   103  AM      Vivo         4739\n",
              "4           BEMOL BARROSO                   107  AM     Claro         1495\n",
              "..                    ...                   ...  ..       ...          ...\n",
              "157  LOJA BEMOL JI-PARANA                   205  RO     Claro          123\n",
              "158      BEMOL RIO BRANCO                   401  AC     Claro          500\n",
              "159      BEMOL RIO BRANCO                   401  AC        Oi          375\n",
              "160      BEMOL RIO BRANCO                   401  AC       Tim          125\n",
              "161      BEMOL RIO BRANCO                   401  AC      Vivo          343\n",
              "\n",
              "[162 rows x 5 columns]"
            ]
          },
          "metadata": {
            "tags": []
          },
          "execution_count": 265
        }
      ]
    },
    {
      "cell_type": "markdown",
      "metadata": {
        "id": "f_u5q6YlCrUu",
        "colab_type": "text"
      },
      "source": [
        "# 2. Tratamento de Dados."
      ]
    },
    {
      "cell_type": "markdown",
      "metadata": {
        "id": "6pwR-eAqFOML",
        "colab_type": "text"
      },
      "source": [
        "##2.1 Renomeando Colunas\n"
      ]
    },
    {
      "cell_type": "code",
      "metadata": {
        "id": "VIb8Mq_QDvg5",
        "colab_type": "code",
        "colab": {}
      },
      "source": [
        "df_detalhamento.columns = ['loja_nome', 'loja_id', 'uf', 'operadora', 'valor_bruto']"
      ],
      "execution_count": 0,
      "outputs": []
    },
    {
      "cell_type": "code",
      "metadata": {
        "id": "xOeDgMMbD_9g",
        "colab_type": "code",
        "outputId": "9c05d0cd-32e5-492f-c86d-7a5ba3da3c75",
        "colab": {
          "base_uri": "https://localhost:8080/",
          "height": 419
        }
      },
      "source": [
        "df_detalhamento"
      ],
      "execution_count": 267,
      "outputs": [
        {
          "output_type": "execute_result",
          "data": {
            "text/html": [
              "<div>\n",
              "<style scoped>\n",
              "    .dataframe tbody tr th:only-of-type {\n",
              "        vertical-align: middle;\n",
              "    }\n",
              "\n",
              "    .dataframe tbody tr th {\n",
              "        vertical-align: top;\n",
              "    }\n",
              "\n",
              "    .dataframe thead th {\n",
              "        text-align: right;\n",
              "    }\n",
              "</style>\n",
              "<table border=\"1\" class=\"dataframe\">\n",
              "  <thead>\n",
              "    <tr style=\"text-align: right;\">\n",
              "      <th></th>\n",
              "      <th>loja_nome</th>\n",
              "      <th>loja_id</th>\n",
              "      <th>uf</th>\n",
              "      <th>operadora</th>\n",
              "      <th>valor_bruto</th>\n",
              "    </tr>\n",
              "  </thead>\n",
              "  <tbody>\n",
              "    <tr>\n",
              "      <th>0</th>\n",
              "      <td>BEMOL AVENIDA</td>\n",
              "      <td>103</td>\n",
              "      <td>AM</td>\n",
              "      <td>Claro</td>\n",
              "      <td>2651</td>\n",
              "    </tr>\n",
              "    <tr>\n",
              "      <th>1</th>\n",
              "      <td>BEMOL AVENIDA</td>\n",
              "      <td>103</td>\n",
              "      <td>AM</td>\n",
              "      <td>Oi</td>\n",
              "      <td>3309</td>\n",
              "    </tr>\n",
              "    <tr>\n",
              "      <th>2</th>\n",
              "      <td>BEMOL AVENIDA</td>\n",
              "      <td>103</td>\n",
              "      <td>AM</td>\n",
              "      <td>Tim</td>\n",
              "      <td>1550</td>\n",
              "    </tr>\n",
              "    <tr>\n",
              "      <th>3</th>\n",
              "      <td>BEMOL AVENIDA</td>\n",
              "      <td>103</td>\n",
              "      <td>AM</td>\n",
              "      <td>Vivo</td>\n",
              "      <td>4739</td>\n",
              "    </tr>\n",
              "    <tr>\n",
              "      <th>4</th>\n",
              "      <td>BEMOL BARROSO</td>\n",
              "      <td>107</td>\n",
              "      <td>AM</td>\n",
              "      <td>Claro</td>\n",
              "      <td>1495</td>\n",
              "    </tr>\n",
              "    <tr>\n",
              "      <th>...</th>\n",
              "      <td>...</td>\n",
              "      <td>...</td>\n",
              "      <td>...</td>\n",
              "      <td>...</td>\n",
              "      <td>...</td>\n",
              "    </tr>\n",
              "    <tr>\n",
              "      <th>157</th>\n",
              "      <td>LOJA BEMOL JI-PARANA</td>\n",
              "      <td>205</td>\n",
              "      <td>RO</td>\n",
              "      <td>Claro</td>\n",
              "      <td>123</td>\n",
              "    </tr>\n",
              "    <tr>\n",
              "      <th>158</th>\n",
              "      <td>BEMOL RIO BRANCO</td>\n",
              "      <td>401</td>\n",
              "      <td>AC</td>\n",
              "      <td>Claro</td>\n",
              "      <td>500</td>\n",
              "    </tr>\n",
              "    <tr>\n",
              "      <th>159</th>\n",
              "      <td>BEMOL RIO BRANCO</td>\n",
              "      <td>401</td>\n",
              "      <td>AC</td>\n",
              "      <td>Oi</td>\n",
              "      <td>375</td>\n",
              "    </tr>\n",
              "    <tr>\n",
              "      <th>160</th>\n",
              "      <td>BEMOL RIO BRANCO</td>\n",
              "      <td>401</td>\n",
              "      <td>AC</td>\n",
              "      <td>Tim</td>\n",
              "      <td>125</td>\n",
              "    </tr>\n",
              "    <tr>\n",
              "      <th>161</th>\n",
              "      <td>BEMOL RIO BRANCO</td>\n",
              "      <td>401</td>\n",
              "      <td>AC</td>\n",
              "      <td>Vivo</td>\n",
              "      <td>343</td>\n",
              "    </tr>\n",
              "  </tbody>\n",
              "</table>\n",
              "<p>162 rows × 5 columns</p>\n",
              "</div>"
            ],
            "text/plain": [
              "                loja_nome  loja_id  uf operadora  valor_bruto\n",
              "0           BEMOL AVENIDA      103  AM     Claro         2651\n",
              "1           BEMOL AVENIDA      103  AM        Oi         3309\n",
              "2           BEMOL AVENIDA      103  AM       Tim         1550\n",
              "3           BEMOL AVENIDA      103  AM      Vivo         4739\n",
              "4           BEMOL BARROSO      107  AM     Claro         1495\n",
              "..                    ...      ...  ..       ...          ...\n",
              "157  LOJA BEMOL JI-PARANA      205  RO     Claro          123\n",
              "158      BEMOL RIO BRANCO      401  AC     Claro          500\n",
              "159      BEMOL RIO BRANCO      401  AC        Oi          375\n",
              "160      BEMOL RIO BRANCO      401  AC       Tim          125\n",
              "161      BEMOL RIO BRANCO      401  AC      Vivo          343\n",
              "\n",
              "[162 rows x 5 columns]"
            ]
          },
          "metadata": {
            "tags": []
          },
          "execution_count": 267
        }
      ]
    },
    {
      "cell_type": "code",
      "metadata": {
        "id": "xvmg4LuMEETR",
        "colab_type": "code",
        "colab": {}
      },
      "source": [
        "df_vendas.columns = ['loja_id', 'operadora', 'material', 'data', 'valor_liquido']"
      ],
      "execution_count": 0,
      "outputs": []
    },
    {
      "cell_type": "code",
      "metadata": {
        "id": "8LaxhZTkEtUS",
        "colab_type": "code",
        "outputId": "c6579f68-02ec-430c-d9d9-a1fa5ffef1d6",
        "colab": {
          "base_uri": "https://localhost:8080/",
          "height": 419
        }
      },
      "source": [
        "df_vendas"
      ],
      "execution_count": 269,
      "outputs": [
        {
          "output_type": "execute_result",
          "data": {
            "text/html": [
              "<div>\n",
              "<style scoped>\n",
              "    .dataframe tbody tr th:only-of-type {\n",
              "        vertical-align: middle;\n",
              "    }\n",
              "\n",
              "    .dataframe tbody tr th {\n",
              "        vertical-align: top;\n",
              "    }\n",
              "\n",
              "    .dataframe thead th {\n",
              "        text-align: right;\n",
              "    }\n",
              "</style>\n",
              "<table border=\"1\" class=\"dataframe\">\n",
              "  <thead>\n",
              "    <tr style=\"text-align: right;\">\n",
              "      <th></th>\n",
              "      <th>loja_id</th>\n",
              "      <th>operadora</th>\n",
              "      <th>material</th>\n",
              "      <th>data</th>\n",
              "      <th>valor_liquido</th>\n",
              "    </tr>\n",
              "  </thead>\n",
              "  <tbody>\n",
              "    <tr>\n",
              "      <th>0</th>\n",
              "      <td>101</td>\n",
              "      <td>Vivo</td>\n",
              "      <td>131318             RECARGA VIRTUAL VIVO R$ 1,00</td>\n",
              "      <td>02.01.2020</td>\n",
              "      <td>20.0</td>\n",
              "    </tr>\n",
              "    <tr>\n",
              "      <th>1</th>\n",
              "      <td>101</td>\n",
              "      <td>Vivo</td>\n",
              "      <td>131318             RECARGA VIRTUAL VIVO R$ 1,00</td>\n",
              "      <td>30.12.2019</td>\n",
              "      <td>10.0</td>\n",
              "    </tr>\n",
              "    <tr>\n",
              "      <th>2</th>\n",
              "      <td>101</td>\n",
              "      <td>Vivo</td>\n",
              "      <td>131318             RECARGA VIRTUAL VIVO R$ 1,00</td>\n",
              "      <td>04.01.2020</td>\n",
              "      <td>20.0</td>\n",
              "    </tr>\n",
              "    <tr>\n",
              "      <th>3</th>\n",
              "      <td>101</td>\n",
              "      <td>Vivo</td>\n",
              "      <td>131318             RECARGA VIRTUAL VIVO R$ 1,00</td>\n",
              "      <td>02.01.2020</td>\n",
              "      <td>10.0</td>\n",
              "    </tr>\n",
              "    <tr>\n",
              "      <th>4</th>\n",
              "      <td>101</td>\n",
              "      <td>Vivo</td>\n",
              "      <td>131318             RECARGA VIRTUAL VIVO R$ 1,00</td>\n",
              "      <td>03.01.2020</td>\n",
              "      <td>25.0</td>\n",
              "    </tr>\n",
              "    <tr>\n",
              "      <th>...</th>\n",
              "      <td>...</td>\n",
              "      <td>...</td>\n",
              "      <td>...</td>\n",
              "      <td>...</td>\n",
              "      <td>...</td>\n",
              "    </tr>\n",
              "    <tr>\n",
              "      <th>5108</th>\n",
              "      <td>701</td>\n",
              "      <td>Claro</td>\n",
              "      <td>131317             RECARGA VIRTUAL CLARO R$ 1,00</td>\n",
              "      <td>30.12.2019</td>\n",
              "      <td>20.0</td>\n",
              "    </tr>\n",
              "    <tr>\n",
              "      <th>5109</th>\n",
              "      <td>701</td>\n",
              "      <td>Claro</td>\n",
              "      <td>131317             RECARGA VIRTUAL CLARO R$ 1,00</td>\n",
              "      <td>04.01.2020</td>\n",
              "      <td>20.0</td>\n",
              "    </tr>\n",
              "    <tr>\n",
              "      <th>5110</th>\n",
              "      <td>701</td>\n",
              "      <td>Claro</td>\n",
              "      <td>131317             RECARGA VIRTUAL CLARO R$ 1,00</td>\n",
              "      <td>05.01.2020</td>\n",
              "      <td>20.0</td>\n",
              "    </tr>\n",
              "    <tr>\n",
              "      <th>5111</th>\n",
              "      <td>701</td>\n",
              "      <td>Claro</td>\n",
              "      <td>131317             RECARGA VIRTUAL CLARO R$ 1,00</td>\n",
              "      <td>05.01.2020</td>\n",
              "      <td>45.0</td>\n",
              "    </tr>\n",
              "    <tr>\n",
              "      <th>5112</th>\n",
              "      <td>701</td>\n",
              "      <td>Claro</td>\n",
              "      <td>131317             RECARGA VIRTUAL CLARO R$ 1,00</td>\n",
              "      <td>04.01.2020</td>\n",
              "      <td>35.0</td>\n",
              "    </tr>\n",
              "  </tbody>\n",
              "</table>\n",
              "<p>5113 rows × 5 columns</p>\n",
              "</div>"
            ],
            "text/plain": [
              "      loja_id operadora  ...        data valor_liquido\n",
              "0         101      Vivo  ...  02.01.2020          20.0\n",
              "1         101      Vivo  ...  30.12.2019          10.0\n",
              "2         101      Vivo  ...  04.01.2020          20.0\n",
              "3         101      Vivo  ...  02.01.2020          10.0\n",
              "4         101      Vivo  ...  03.01.2020          25.0\n",
              "...       ...       ...  ...         ...           ...\n",
              "5108      701     Claro  ...  30.12.2019          20.0\n",
              "5109      701     Claro  ...  04.01.2020          20.0\n",
              "5110      701     Claro  ...  05.01.2020          20.0\n",
              "5111      701     Claro  ...  05.01.2020          45.0\n",
              "5112      701     Claro  ...  04.01.2020          35.0\n",
              "\n",
              "[5113 rows x 5 columns]"
            ]
          },
          "metadata": {
            "tags": []
          },
          "execution_count": 269
        }
      ]
    },
    {
      "cell_type": "markdown",
      "metadata": {
        "id": "ANNuJ1o3JrGc",
        "colab_type": "text"
      },
      "source": [
        "## 2.2 Verificar Tipos"
      ]
    },
    {
      "cell_type": "code",
      "metadata": {
        "id": "J1oMPm-lJuDQ",
        "colab_type": "code",
        "outputId": "10331629-3748-40f2-f6e7-66d74f86c155",
        "colab": {
          "base_uri": "https://localhost:8080/",
          "height": 119
        }
      },
      "source": [
        "df_detalhamento.dtypes"
      ],
      "execution_count": 270,
      "outputs": [
        {
          "output_type": "execute_result",
          "data": {
            "text/plain": [
              "loja_nome      object\n",
              "loja_id         int64\n",
              "uf             object\n",
              "operadora      object\n",
              "valor_bruto     int64\n",
              "dtype: object"
            ]
          },
          "metadata": {
            "tags": []
          },
          "execution_count": 270
        }
      ]
    },
    {
      "cell_type": "code",
      "metadata": {
        "id": "wpJPlck7J-kv",
        "colab_type": "code",
        "outputId": "7c3d0d70-46ac-4fdd-f4ef-ec666982fe09",
        "colab": {
          "base_uri": "https://localhost:8080/",
          "height": 119
        }
      },
      "source": [
        "df_vendas.dtypes"
      ],
      "execution_count": 271,
      "outputs": [
        {
          "output_type": "execute_result",
          "data": {
            "text/plain": [
              "loja_id            int64\n",
              "operadora         object\n",
              "material          object\n",
              "data              object\n",
              "valor_liquido    float64\n",
              "dtype: object"
            ]
          },
          "metadata": {
            "tags": []
          },
          "execution_count": 271
        }
      ]
    },
    {
      "cell_type": "markdown",
      "metadata": {
        "id": "e5QZ6ehrKWI6",
        "colab_type": "text"
      },
      "source": [
        "##2.3 Deletar Dados."
      ]
    },
    {
      "cell_type": "code",
      "metadata": {
        "id": "gBmgnko5KaYx",
        "colab_type": "code",
        "colab": {}
      },
      "source": [
        " df_detalhamento = df_detalhamento[[ 'loja_id', 'operadora', 'valor_bruto']].copy()"
      ],
      "execution_count": 0,
      "outputs": []
    },
    {
      "cell_type": "code",
      "metadata": {
        "id": "47JCkJUNMCGg",
        "colab_type": "code",
        "colab": {}
      },
      "source": [
        "df_vendas = df_vendas[['loja_id', 'operadora', 'valor_liquido']].copy()"
      ],
      "execution_count": 0,
      "outputs": []
    },
    {
      "cell_type": "markdown",
      "metadata": {
        "id": "ML2YUGOaNT7W",
        "colab_type": "text"
      },
      "source": [
        "#3. Concatenar Tabelas"
      ]
    },
    {
      "cell_type": "code",
      "metadata": {
        "id": "x-fte3G_SQuB",
        "colab_type": "code",
        "outputId": "2f0a1655-6018-4b8b-f459-35ccc857c753",
        "colab": {
          "base_uri": "https://localhost:8080/",
          "height": 419
        }
      },
      "source": [
        "df_vendas"
      ],
      "execution_count": 274,
      "outputs": [
        {
          "output_type": "execute_result",
          "data": {
            "text/html": [
              "<div>\n",
              "<style scoped>\n",
              "    .dataframe tbody tr th:only-of-type {\n",
              "        vertical-align: middle;\n",
              "    }\n",
              "\n",
              "    .dataframe tbody tr th {\n",
              "        vertical-align: top;\n",
              "    }\n",
              "\n",
              "    .dataframe thead th {\n",
              "        text-align: right;\n",
              "    }\n",
              "</style>\n",
              "<table border=\"1\" class=\"dataframe\">\n",
              "  <thead>\n",
              "    <tr style=\"text-align: right;\">\n",
              "      <th></th>\n",
              "      <th>loja_id</th>\n",
              "      <th>operadora</th>\n",
              "      <th>valor_liquido</th>\n",
              "    </tr>\n",
              "  </thead>\n",
              "  <tbody>\n",
              "    <tr>\n",
              "      <th>0</th>\n",
              "      <td>101</td>\n",
              "      <td>Vivo</td>\n",
              "      <td>20.0</td>\n",
              "    </tr>\n",
              "    <tr>\n",
              "      <th>1</th>\n",
              "      <td>101</td>\n",
              "      <td>Vivo</td>\n",
              "      <td>10.0</td>\n",
              "    </tr>\n",
              "    <tr>\n",
              "      <th>2</th>\n",
              "      <td>101</td>\n",
              "      <td>Vivo</td>\n",
              "      <td>20.0</td>\n",
              "    </tr>\n",
              "    <tr>\n",
              "      <th>3</th>\n",
              "      <td>101</td>\n",
              "      <td>Vivo</td>\n",
              "      <td>10.0</td>\n",
              "    </tr>\n",
              "    <tr>\n",
              "      <th>4</th>\n",
              "      <td>101</td>\n",
              "      <td>Vivo</td>\n",
              "      <td>25.0</td>\n",
              "    </tr>\n",
              "    <tr>\n",
              "      <th>...</th>\n",
              "      <td>...</td>\n",
              "      <td>...</td>\n",
              "      <td>...</td>\n",
              "    </tr>\n",
              "    <tr>\n",
              "      <th>5108</th>\n",
              "      <td>701</td>\n",
              "      <td>Claro</td>\n",
              "      <td>20.0</td>\n",
              "    </tr>\n",
              "    <tr>\n",
              "      <th>5109</th>\n",
              "      <td>701</td>\n",
              "      <td>Claro</td>\n",
              "      <td>20.0</td>\n",
              "    </tr>\n",
              "    <tr>\n",
              "      <th>5110</th>\n",
              "      <td>701</td>\n",
              "      <td>Claro</td>\n",
              "      <td>20.0</td>\n",
              "    </tr>\n",
              "    <tr>\n",
              "      <th>5111</th>\n",
              "      <td>701</td>\n",
              "      <td>Claro</td>\n",
              "      <td>45.0</td>\n",
              "    </tr>\n",
              "    <tr>\n",
              "      <th>5112</th>\n",
              "      <td>701</td>\n",
              "      <td>Claro</td>\n",
              "      <td>35.0</td>\n",
              "    </tr>\n",
              "  </tbody>\n",
              "</table>\n",
              "<p>5113 rows × 3 columns</p>\n",
              "</div>"
            ],
            "text/plain": [
              "      loja_id operadora  valor_liquido\n",
              "0         101      Vivo           20.0\n",
              "1         101      Vivo           10.0\n",
              "2         101      Vivo           20.0\n",
              "3         101      Vivo           10.0\n",
              "4         101      Vivo           25.0\n",
              "...       ...       ...            ...\n",
              "5108      701     Claro           20.0\n",
              "5109      701     Claro           20.0\n",
              "5110      701     Claro           20.0\n",
              "5111      701     Claro           45.0\n",
              "5112      701     Claro           35.0\n",
              "\n",
              "[5113 rows x 3 columns]"
            ]
          },
          "metadata": {
            "tags": []
          },
          "execution_count": 274
        }
      ]
    },
    {
      "cell_type": "code",
      "metadata": {
        "id": "ZawPshqyCqPd",
        "colab_type": "code",
        "colab": {
          "base_uri": "https://localhost:8080/",
          "height": 419
        },
        "outputId": "2b71c1c1-0943-40c0-a716-317675ff02b4"
      },
      "source": [
        "df_detalhamento"
      ],
      "execution_count": 275,
      "outputs": [
        {
          "output_type": "execute_result",
          "data": {
            "text/html": [
              "<div>\n",
              "<style scoped>\n",
              "    .dataframe tbody tr th:only-of-type {\n",
              "        vertical-align: middle;\n",
              "    }\n",
              "\n",
              "    .dataframe tbody tr th {\n",
              "        vertical-align: top;\n",
              "    }\n",
              "\n",
              "    .dataframe thead th {\n",
              "        text-align: right;\n",
              "    }\n",
              "</style>\n",
              "<table border=\"1\" class=\"dataframe\">\n",
              "  <thead>\n",
              "    <tr style=\"text-align: right;\">\n",
              "      <th></th>\n",
              "      <th>loja_id</th>\n",
              "      <th>operadora</th>\n",
              "      <th>valor_bruto</th>\n",
              "    </tr>\n",
              "  </thead>\n",
              "  <tbody>\n",
              "    <tr>\n",
              "      <th>0</th>\n",
              "      <td>103</td>\n",
              "      <td>Claro</td>\n",
              "      <td>2651</td>\n",
              "    </tr>\n",
              "    <tr>\n",
              "      <th>1</th>\n",
              "      <td>103</td>\n",
              "      <td>Oi</td>\n",
              "      <td>3309</td>\n",
              "    </tr>\n",
              "    <tr>\n",
              "      <th>2</th>\n",
              "      <td>103</td>\n",
              "      <td>Tim</td>\n",
              "      <td>1550</td>\n",
              "    </tr>\n",
              "    <tr>\n",
              "      <th>3</th>\n",
              "      <td>103</td>\n",
              "      <td>Vivo</td>\n",
              "      <td>4739</td>\n",
              "    </tr>\n",
              "    <tr>\n",
              "      <th>4</th>\n",
              "      <td>107</td>\n",
              "      <td>Claro</td>\n",
              "      <td>1495</td>\n",
              "    </tr>\n",
              "    <tr>\n",
              "      <th>...</th>\n",
              "      <td>...</td>\n",
              "      <td>...</td>\n",
              "      <td>...</td>\n",
              "    </tr>\n",
              "    <tr>\n",
              "      <th>157</th>\n",
              "      <td>205</td>\n",
              "      <td>Claro</td>\n",
              "      <td>123</td>\n",
              "    </tr>\n",
              "    <tr>\n",
              "      <th>158</th>\n",
              "      <td>401</td>\n",
              "      <td>Claro</td>\n",
              "      <td>500</td>\n",
              "    </tr>\n",
              "    <tr>\n",
              "      <th>159</th>\n",
              "      <td>401</td>\n",
              "      <td>Oi</td>\n",
              "      <td>375</td>\n",
              "    </tr>\n",
              "    <tr>\n",
              "      <th>160</th>\n",
              "      <td>401</td>\n",
              "      <td>Tim</td>\n",
              "      <td>125</td>\n",
              "    </tr>\n",
              "    <tr>\n",
              "      <th>161</th>\n",
              "      <td>401</td>\n",
              "      <td>Vivo</td>\n",
              "      <td>343</td>\n",
              "    </tr>\n",
              "  </tbody>\n",
              "</table>\n",
              "<p>162 rows × 3 columns</p>\n",
              "</div>"
            ],
            "text/plain": [
              "     loja_id operadora  valor_bruto\n",
              "0        103     Claro         2651\n",
              "1        103        Oi         3309\n",
              "2        103       Tim         1550\n",
              "3        103      Vivo         4739\n",
              "4        107     Claro         1495\n",
              "..       ...       ...          ...\n",
              "157      205     Claro          123\n",
              "158      401     Claro          500\n",
              "159      401        Oi          375\n",
              "160      401       Tim          125\n",
              "161      401      Vivo          343\n",
              "\n",
              "[162 rows x 3 columns]"
            ]
          },
          "metadata": {
            "tags": []
          },
          "execution_count": 275
        }
      ]
    },
    {
      "cell_type": "code",
      "metadata": {
        "id": "rK_n32URSTAE",
        "colab_type": "code",
        "colab": {}
      },
      "source": [
        "df_vendas = df_vendas.groupby(['loja_id', 'operadora']).agg({'valor_liquido': 'sum'}).reset_index()"
      ],
      "execution_count": 0,
      "outputs": []
    },
    {
      "cell_type": "code",
      "metadata": {
        "id": "n3JpGC7wE2YH",
        "colab_type": "code",
        "colab": {}
      },
      "source": [
        "df_relatorio = pd.concat([df_vendas, df_detalhamento])"
      ],
      "execution_count": 0,
      "outputs": []
    },
    {
      "cell_type": "markdown",
      "metadata": {
        "id": "pAePEi04WOLY",
        "colab_type": "text"
      },
      "source": [
        "![image.png](data:image/png;base64,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)"
      ]
    },
    {
      "cell_type": "markdown",
      "metadata": {
        "id": "vvWgzIS4UOCn",
        "colab_type": "text"
      },
      "source": [
        "#4. Correlação de Tabelas."
      ]
    },
    {
      "cell_type": "code",
      "metadata": {
        "id": "xtl_D0GrKwtA",
        "colab_type": "code",
        "colab": {}
      },
      "source": [
        "df_relatorio = df_relatorio.groupby(['loja_id', 'operadora']).agg({'valor_liquido':'first', 'valor_bruto': 'first'}).reset_index()"
      ],
      "execution_count": 0,
      "outputs": []
    },
    {
      "cell_type": "code",
      "metadata": {
        "id": "8z8XcYNKE9QS",
        "colab_type": "code",
        "colab": {
          "base_uri": "https://localhost:8080/",
          "height": 419
        },
        "outputId": "526aa46b-cdc7-4dfe-9ce1-a5bb5902172c"
      },
      "source": [
        "df_relatorio"
      ],
      "execution_count": 279,
      "outputs": [
        {
          "output_type": "execute_result",
          "data": {
            "text/html": [
              "<div>\n",
              "<style scoped>\n",
              "    .dataframe tbody tr th:only-of-type {\n",
              "        vertical-align: middle;\n",
              "    }\n",
              "\n",
              "    .dataframe tbody tr th {\n",
              "        vertical-align: top;\n",
              "    }\n",
              "\n",
              "    .dataframe thead th {\n",
              "        text-align: right;\n",
              "    }\n",
              "</style>\n",
              "<table border=\"1\" class=\"dataframe\">\n",
              "  <thead>\n",
              "    <tr style=\"text-align: right;\">\n",
              "      <th></th>\n",
              "      <th>loja_id</th>\n",
              "      <th>operadora</th>\n",
              "      <th>valor_liquido</th>\n",
              "      <th>valor_bruto</th>\n",
              "    </tr>\n",
              "  </thead>\n",
              "  <tbody>\n",
              "    <tr>\n",
              "      <th>0</th>\n",
              "      <td>101</td>\n",
              "      <td>Claro</td>\n",
              "      <td>1527.0</td>\n",
              "      <td>1527.0</td>\n",
              "    </tr>\n",
              "    <tr>\n",
              "      <th>1</th>\n",
              "      <td>101</td>\n",
              "      <td>Oi</td>\n",
              "      <td>1730.0</td>\n",
              "      <td>1730.0</td>\n",
              "    </tr>\n",
              "    <tr>\n",
              "      <th>2</th>\n",
              "      <td>101</td>\n",
              "      <td>Tim</td>\n",
              "      <td>975.0</td>\n",
              "      <td>975.0</td>\n",
              "    </tr>\n",
              "    <tr>\n",
              "      <th>3</th>\n",
              "      <td>101</td>\n",
              "      <td>Vivo</td>\n",
              "      <td>3142.0</td>\n",
              "      <td>3142.0</td>\n",
              "    </tr>\n",
              "    <tr>\n",
              "      <th>4</th>\n",
              "      <td>103</td>\n",
              "      <td>Claro</td>\n",
              "      <td>2652.3</td>\n",
              "      <td>2651.0</td>\n",
              "    </tr>\n",
              "    <tr>\n",
              "      <th>...</th>\n",
              "      <td>...</td>\n",
              "      <td>...</td>\n",
              "      <td>...</td>\n",
              "      <td>...</td>\n",
              "    </tr>\n",
              "    <tr>\n",
              "      <th>158</th>\n",
              "      <td>618</td>\n",
              "      <td>Vivo</td>\n",
              "      <td>561.0</td>\n",
              "      <td>380.0</td>\n",
              "    </tr>\n",
              "    <tr>\n",
              "      <th>159</th>\n",
              "      <td>701</td>\n",
              "      <td>Claro</td>\n",
              "      <td>140.0</td>\n",
              "      <td>140.0</td>\n",
              "    </tr>\n",
              "    <tr>\n",
              "      <th>160</th>\n",
              "      <td>701</td>\n",
              "      <td>Oi</td>\n",
              "      <td>20.0</td>\n",
              "      <td>20.0</td>\n",
              "    </tr>\n",
              "    <tr>\n",
              "      <th>161</th>\n",
              "      <td>701</td>\n",
              "      <td>Tim</td>\n",
              "      <td>135.0</td>\n",
              "      <td>135.0</td>\n",
              "    </tr>\n",
              "    <tr>\n",
              "      <th>162</th>\n",
              "      <td>701</td>\n",
              "      <td>Vivo</td>\n",
              "      <td>304.0</td>\n",
              "      <td>304.0</td>\n",
              "    </tr>\n",
              "  </tbody>\n",
              "</table>\n",
              "<p>163 rows × 4 columns</p>\n",
              "</div>"
            ],
            "text/plain": [
              "     loja_id operadora  valor_liquido  valor_bruto\n",
              "0        101     Claro         1527.0       1527.0\n",
              "1        101        Oi         1730.0       1730.0\n",
              "2        101       Tim          975.0        975.0\n",
              "3        101      Vivo         3142.0       3142.0\n",
              "4        103     Claro         2652.3       2651.0\n",
              "..       ...       ...            ...          ...\n",
              "158      618      Vivo          561.0        380.0\n",
              "159      701     Claro          140.0        140.0\n",
              "160      701        Oi           20.0         20.0\n",
              "161      701       Tim          135.0        135.0\n",
              "162      701      Vivo          304.0        304.0\n",
              "\n",
              "[163 rows x 4 columns]"
            ]
          },
          "metadata": {
            "tags": []
          },
          "execution_count": 279
        }
      ]
    },
    {
      "cell_type": "markdown",
      "metadata": {
        "id": "WXcrGr91UlnB",
        "colab_type": "text"
      },
      "source": [
        "#5. Regras de Negócio"
      ]
    },
    {
      "cell_type": "code",
      "metadata": {
        "id": "P9IVleJfMUih",
        "colab_type": "code",
        "colab": {}
      },
      "source": [
        "#Comparação sem condicional, para visualizar 'Falso' para valores conformes e 'True' para valores divergentes.\n",
        "#df_relatorio['status'] = (df_relatorio['valor_liquido'] != df_relatorio['valor_bruto'])"
      ],
      "execution_count": 0,
      "outputs": []
    },
    {
      "cell_type": "code",
      "metadata": {
        "id": "gB3UqefEIMKE",
        "colab_type": "code",
        "colab": {}
      },
      "source": [
        "#Utilizando replace para apontar os valores na tabela: \n",
        "\n",
        "# replace_dict = {\n",
        "    #True: \"Conforme\",\n",
        "    #False: 'Alerta' }"
      ],
      "execution_count": 0,
      "outputs": []
    },
    {
      "cell_type": "code",
      "metadata": {
        "id": "rsFX6UA0Rzap",
        "colab_type": "code",
        "colab": {}
      },
      "source": [
        "#Atribundo os valores a tabela 'Status'\n",
        "# df_relatorio = df_relatorio['status'].replace(replace_dict)"
      ],
      "execution_count": 0,
      "outputs": []
    },
    {
      "cell_type": "markdown",
      "metadata": {
        "id": "F-GpDC62a_Ra",
        "colab_type": "text"
      },
      "source": [
        "Outra maneira: "
      ]
    },
    {
      "cell_type": "code",
      "metadata": {
        "id": "qvt6Jc9yTTLC",
        "colab_type": "code",
        "colab": {}
      },
      "source": [
        "df_relatorio['status'] = df_relatorio['valor_bruto'] - df_relatorio['valor_liquido'] "
      ],
      "execution_count": 0,
      "outputs": []
    },
    {
      "cell_type": "code",
      "metadata": {
        "id": "5FstcOYnTnCL",
        "colab_type": "code",
        "colab": {}
      },
      "source": [
        "df_relatorio['status'] = df_relatorio['status'].apply(lambda x: 'Conforme!' if x == 0.0 else 'Alerta')"
      ],
      "execution_count": 0,
      "outputs": []
    },
    {
      "cell_type": "code",
      "metadata": {
        "id": "i8CKNdo_UYpE",
        "colab_type": "code",
        "colab": {
          "base_uri": "https://localhost:8080/",
          "height": 419
        },
        "outputId": "fd750043-df62-4b00-a006-b40300eab669"
      },
      "source": [
        "df_relatorio"
      ],
      "execution_count": 327,
      "outputs": [
        {
          "output_type": "execute_result",
          "data": {
            "text/html": [
              "<div>\n",
              "<style scoped>\n",
              "    .dataframe tbody tr th:only-of-type {\n",
              "        vertical-align: middle;\n",
              "    }\n",
              "\n",
              "    .dataframe tbody tr th {\n",
              "        vertical-align: top;\n",
              "    }\n",
              "\n",
              "    .dataframe thead th {\n",
              "        text-align: right;\n",
              "    }\n",
              "</style>\n",
              "<table border=\"1\" class=\"dataframe\">\n",
              "  <thead>\n",
              "    <tr style=\"text-align: right;\">\n",
              "      <th></th>\n",
              "      <th>loja_id</th>\n",
              "      <th>operadora</th>\n",
              "      <th>valor_liquido</th>\n",
              "      <th>valor_bruto</th>\n",
              "      <th>status</th>\n",
              "    </tr>\n",
              "  </thead>\n",
              "  <tbody>\n",
              "    <tr>\n",
              "      <th>0</th>\n",
              "      <td>101</td>\n",
              "      <td>Claro</td>\n",
              "      <td>1527.0</td>\n",
              "      <td>1527.0</td>\n",
              "      <td>Conforme!</td>\n",
              "    </tr>\n",
              "    <tr>\n",
              "      <th>1</th>\n",
              "      <td>101</td>\n",
              "      <td>Oi</td>\n",
              "      <td>1730.0</td>\n",
              "      <td>1730.0</td>\n",
              "      <td>Conforme!</td>\n",
              "    </tr>\n",
              "    <tr>\n",
              "      <th>2</th>\n",
              "      <td>101</td>\n",
              "      <td>Tim</td>\n",
              "      <td>975.0</td>\n",
              "      <td>975.0</td>\n",
              "      <td>Conforme!</td>\n",
              "    </tr>\n",
              "    <tr>\n",
              "      <th>3</th>\n",
              "      <td>101</td>\n",
              "      <td>Vivo</td>\n",
              "      <td>3142.0</td>\n",
              "      <td>3142.0</td>\n",
              "      <td>Conforme!</td>\n",
              "    </tr>\n",
              "    <tr>\n",
              "      <th>4</th>\n",
              "      <td>103</td>\n",
              "      <td>Claro</td>\n",
              "      <td>2652.3</td>\n",
              "      <td>2651.0</td>\n",
              "      <td>Alerta</td>\n",
              "    </tr>\n",
              "    <tr>\n",
              "      <th>...</th>\n",
              "      <td>...</td>\n",
              "      <td>...</td>\n",
              "      <td>...</td>\n",
              "      <td>...</td>\n",
              "      <td>...</td>\n",
              "    </tr>\n",
              "    <tr>\n",
              "      <th>158</th>\n",
              "      <td>618</td>\n",
              "      <td>Vivo</td>\n",
              "      <td>561.0</td>\n",
              "      <td>380.0</td>\n",
              "      <td>Alerta</td>\n",
              "    </tr>\n",
              "    <tr>\n",
              "      <th>159</th>\n",
              "      <td>701</td>\n",
              "      <td>Claro</td>\n",
              "      <td>140.0</td>\n",
              "      <td>140.0</td>\n",
              "      <td>Conforme!</td>\n",
              "    </tr>\n",
              "    <tr>\n",
              "      <th>160</th>\n",
              "      <td>701</td>\n",
              "      <td>Oi</td>\n",
              "      <td>20.0</td>\n",
              "      <td>20.0</td>\n",
              "      <td>Conforme!</td>\n",
              "    </tr>\n",
              "    <tr>\n",
              "      <th>161</th>\n",
              "      <td>701</td>\n",
              "      <td>Tim</td>\n",
              "      <td>135.0</td>\n",
              "      <td>135.0</td>\n",
              "      <td>Conforme!</td>\n",
              "    </tr>\n",
              "    <tr>\n",
              "      <th>162</th>\n",
              "      <td>701</td>\n",
              "      <td>Vivo</td>\n",
              "      <td>304.0</td>\n",
              "      <td>304.0</td>\n",
              "      <td>Conforme!</td>\n",
              "    </tr>\n",
              "  </tbody>\n",
              "</table>\n",
              "<p>163 rows × 5 columns</p>\n",
              "</div>"
            ],
            "text/plain": [
              "     loja_id operadora  valor_liquido  valor_bruto     status\n",
              "0        101     Claro         1527.0       1527.0  Conforme!\n",
              "1        101        Oi         1730.0       1730.0  Conforme!\n",
              "2        101       Tim          975.0        975.0  Conforme!\n",
              "3        101      Vivo         3142.0       3142.0  Conforme!\n",
              "4        103     Claro         2652.3       2651.0     Alerta\n",
              "..       ...       ...            ...          ...        ...\n",
              "158      618      Vivo          561.0        380.0     Alerta\n",
              "159      701     Claro          140.0        140.0  Conforme!\n",
              "160      701        Oi           20.0         20.0  Conforme!\n",
              "161      701       Tim          135.0        135.0  Conforme!\n",
              "162      701      Vivo          304.0        304.0  Conforme!\n",
              "\n",
              "[163 rows x 5 columns]"
            ]
          },
          "metadata": {
            "tags": []
          },
          "execution_count": 327
        }
      ]
    },
    {
      "cell_type": "markdown",
      "metadata": {
        "id": "xuPf4B0-aVRQ",
        "colab_type": "text"
      },
      "source": [
        "#6. Exportar Dados"
      ]
    },
    {
      "cell_type": "code",
      "metadata": {
        "id": "zeRyHNkNOu81",
        "colab_type": "code",
        "colab": {}
      },
      "source": [
        "writer = pd.ExcelWriter('Relatório.xlsx')\n",
        "\n",
        "df_relatorio.to_excel(writer, sheet_name='relatorio_final', index=False)\n",
        "\n",
        "writer.save()"
      ],
      "execution_count": 0,
      "outputs": []
    },
    {
      "cell_type": "code",
      "metadata": {
        "id": "5svb-ogNaVAw",
        "colab_type": "code",
        "colab": {}
      },
      "source": [
        ""
      ],
      "execution_count": 0,
      "outputs": []
    }
  ]
}